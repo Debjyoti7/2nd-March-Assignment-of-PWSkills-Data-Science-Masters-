{
 "cells": [
  {
   "cell_type": "markdown",
   "id": "91e0ea0d-fff5-417a-b2d6-0088109650c4",
   "metadata": {},
   "source": [
    "# Q1: What is Matplotlib? Why is it used? Name five plots that can be plotted using the Pyplot module of Matplotlib."
   ]
  },
  {
   "cell_type": "markdown",
   "id": "493dd268-edfa-47fb-8fdb-f9be22c0dce5",
   "metadata": {},
   "source": [
    "## Matplotlib is a popular Python library used for data visualization. It provides a wide range of tools for creating different types of plots, charts, and graphs. Matplotlib is widely used in scientific computing, data analysis, and machine learning."
   ]
  },
  {
   "cell_type": "markdown",
   "id": "2238b44f-2d47-45f9-9229-cb5e92573d53",
   "metadata": {},
   "source": [
    "## Five plots that can be plotted using the Pyplot module of Matplotlib are:\n",
    "\n",
    "# 1. Line plot - Used to show trends in data over time or to compare two or more variables.\n",
    "## 2. Bar chart - Used to compare data across different categories or to show changes in data over time.\n",
    "## 3. Scatter plot - Used to show the relationship between two variables and to identify trends or patterns in the data.\n",
    "## 4. Histogram - Used to show the distribution of data and to identify outliers or anomalies.\n",
    "## 5. Pie chart - Used to show the proportion of each category in a dataset or to compare the sizes of different categories."
   ]
  },
  {
   "cell_type": "markdown",
   "id": "bb78ab9a-c0d0-4ec3-946d-ae03a2390bb4",
   "metadata": {},
   "source": [
    "# Q2: What is a scatter plot? Use the following code to generate data for x and y. Using this generated data plot a scatter plot."
   ]
  },
  {
   "cell_type": "markdown",
   "id": "b5c325a8-14fe-4803-bf33-fbd88ce830c1",
   "metadata": {},
   "source": [
    "## A scatter plot is a type of plot used to visualize the relationship between two variables. It is a graph in which the values of two variables are plotted along two axes, with the independent variable (also called the explanatory variable or predictor variable) plotted along the x-axis and the dependent variable (also called the response variable) plotted along the y-axis. Each point on the plot represents a pair of values for the two variables."
   ]
  },
  {
   "cell_type": "code",
   "execution_count": 5,
   "id": "51bfaa3c-48e9-4e04-9e97-2a3c0cd48ff6",
   "metadata": {},
   "outputs": [],
   "source": [
    "import numpy as np\n",
    "import matplotlib.pyplot as plt\n",
    "np.random.seed(3)\n",
    "x = 3 + np.random.normal(0, 2, 50)\n",
    "y = 3 + np.random.normal(0, 2, len(x))"
   ]
  },
  {
   "cell_type": "code",
   "execution_count": 6,
   "id": "9e66ebe6-d788-4b2c-8747-3fe1d0f79cad",
   "metadata": {},
   "outputs": [
    {
     "data": {
      "text/plain": [
       "array([ 6.57725695,  3.8730197 ,  3.19299494, -0.72698541,  2.44522359,\n",
       "        2.29048204,  2.83451704,  1.74599865,  2.91236366,  2.04556394,\n",
       "        0.37227049,  4.76924476,  4.76263608,  6.41914613,  3.10006728,\n",
       "        2.19064517,  1.9092801 , -0.09295463,  4.96473487,  0.79786474,\n",
       "        0.62990695,  2.5887002 ,  5.97229671,  3.47343253,  0.95242972,\n",
       "        1.5740136 ,  4.25048993,  2.67897327,  1.4623273 ,  2.53993856,\n",
       "        4.49011253,  6.95222157,  0.51175334,  1.74716618,  1.39246781,\n",
       "       -1.83816635,  1.15241596,  0.95224848,  5.24795592,  2.73617153,\n",
       "       -0.24657089,  4.2933509 ,  2.28745848, -0.48628207,  1.80670072,\n",
       "        1.82281124,  1.2522354 ,  3.05942763, -1.49651554,  2.46447627])"
      ]
     },
     "execution_count": 6,
     "metadata": {},
     "output_type": "execute_result"
    }
   ],
   "source": [
    "x"
   ]
  },
  {
   "cell_type": "code",
   "execution_count": 7,
   "id": "5655ff6e-22d4-4f33-86f5-254f2fcfdb7f",
   "metadata": {},
   "outputs": [
    {
     "data": {
      "text/plain": [
       "array([ 5.02636688,  4.70559568,  5.216375  ,  5.23878131,  5.97508626,\n",
       "        0.76339863,  4.69166681, -0.72177906,  1.79422979, -0.82894409,\n",
       "        5.09629502,  5.66747564,  2.60517064,  6.54929006,  1.65054498,\n",
       "        3.30123373,  3.30589141,  0.87160945,  3.87589322,  6.87795692,\n",
       "        0.95013825,  4.79867689,  2.6909863 ,  6.53925461,  3.9675767 ,\n",
       "        4.3524328 ,  4.28632656,  3.49817341,  0.20847299,  5.78332582,\n",
       "        0.25866197,  3.47712638,  4.22815418,  1.32417545,  3.29012643,\n",
       "        5.33576457,  2.95179106,  1.22268516, -2.8314755 ,  1.05631899,\n",
       "        1.81784252,  1.96716526,  1.08000764,  3.75459047,  1.85058316,\n",
       "        2.78109133,  4.3581432 ,  1.28912566,  2.39958785,  7.31629868])"
      ]
     },
     "execution_count": 7,
     "metadata": {},
     "output_type": "execute_result"
    }
   ],
   "source": [
    "y"
   ]
  },
  {
   "cell_type": "code",
   "execution_count": 12,
   "id": "de954201-dcc8-48ef-aad9-50e1a47d2588",
   "metadata": {},
   "outputs": [
    {
     "data": {
      "text/plain": [
       "Text(0.5, 1.0, 'This is 2D scatter plot')"
      ]
     },
     "execution_count": 12,
     "metadata": {},
     "output_type": "execute_result"
    },
    {
     "data": {
      "image/png": "[encoded data removed]",
      "text/plain": [
       "<Figure size 640x480 with 1 Axes>"
      ]
     },
     "metadata": {},
     "output_type": "display_data"
    }
   ],
   "source": [
    "plt.scatter(x, y , edgecolors = 'r', c= 'g' )\n",
    "plt.xlabel('X axis')\n",
    "plt.ylabel('Y axis')\n",
    "plt.title('This is 2D scatter plot')"
   ]
  },
  {
   "cell_type": "markdown",
   "id": "68be7d63-d60a-4a91-9014-9fc184c6c71b",
   "metadata": {},
   "source": [
    "# Q3: Why is the subplot() function used? Draw four line plots using the subplot() function."
   ]
  },
  {
   "cell_type": "markdown",
   "id": "7528cf14-2f33-4dbe-83b3-cc3cb6fc438a",
   "metadata": {},
   "source": [
    "## The subplot() function in Matplotlib is used to create multiple plots or subplots in a single figure. It allows you to organize multiple plots into a grid of rows and columns, and to specify the location of each plot within the grid using a numerical index."
   ]
  },
  {
   "cell_type": "code",
   "execution_count": 1,
   "id": "5284dbc7-fda3-4078-aa1a-83b0546bc8fb",
   "metadata": {},
   "outputs": [],
   "source": [
    "import matplotlib.pyplot as plt \n",
    "import numpy as np"
   ]
  },
  {
   "cell_type": "code",
   "execution_count": 2,
   "id": "057071d4-dd20-4c57-8fea-4eb9f97cee39",
   "metadata": {},
   "outputs": [],
   "source": [
    "x = np.array([0, 1, 2, 3, 4, 5])\n",
    "y = np.array([0, 100, 200, 300, 400, 500])"
   ]
  },
  {
   "cell_type": "code",
   "execution_count": 3,
   "id": "59f001e1-ffda-49d2-8ced-c63df94d1466",
   "metadata": {},
   "outputs": [
    {
     "ename": "SyntaxError",
     "evalue": "invalid syntax. Maybe you meant '==' or ':=' instead of '='? (1955123972.py, line 1)",
     "output_type": "error",
     "traceback": [
      "\u001b[0;36m  Cell \u001b[0;32mIn[3], line 1\u001b[0;36m\u001b[0m\n\u001b[0;31m    x = np.array([0, 1, 2, 3, 4, 5]) and y = np.array([50, 20, 40, 20, 60, 70])\u001b[0m\n\u001b[0m    ^\u001b[0m\n\u001b[0;31mSyntaxError\u001b[0m\u001b[0;31m:\u001b[0m invalid syntax. Maybe you meant '==' or ':=' instead of '='?\n"
     ]
    }
   ],
   "source": [
    "x = np.array([0, 1, 2, 3, 4, 5]) and y = np.array([50, 20, 40, 20, 60, 70])\n",
    "plt.subplot(5,5,2)\n",
    "plt.plot(x,y, 'b--')\n"
   ]
  },
  {
   "cell_type": "code",
   "execution_count": null,
   "id": "995b7b0f-902d-4de4-80a2-ca6c28dca0e7",
   "metadata": {},
   "outputs": [],
   "source": []
  },
  {
   "cell_type": "code",
   "execution_count": null,
   "id": "416bed90-efe2-4e20-a4a6-e83cf3e09100",
   "metadata": {},
   "outputs": [],
   "source": [
    "x = np.array([0, 1, 2, 3, 4, 5]) and y = np.array([10, 20, 30, 40, 50, 60])"
   ]
  },
  {
   "cell_type": "code",
   "execution_count": null,
   "id": "f0d94e14-624a-43a2-a101-91bf9c00da9b",
   "metadata": {},
   "outputs": [],
   "source": []
  },
  {
   "cell_type": "code",
   "execution_count": null,
   "id": "823ff2be-f3bd-4731-897e-b2fb5fb4e612",
   "metadata": {},
   "outputs": [],
   "source": [
    "x = np.array([0, 1, 2, 3, 4, 5]) and y = np.array([200, 350, 250, 550, 450, 150])"
   ]
  },
  {
   "cell_type": "code",
   "execution_count": null,
   "id": "9bcb7649-8fa5-4cb2-80bf-a095be6a4498",
   "metadata": {},
   "outputs": [],
   "source": []
  },
  {
   "cell_type": "markdown",
   "id": "f625e291-3558-4577-a930-1c935e62fa59",
   "metadata": {},
   "source": [
    "# Q4: What is a bar plot? Why is it used? Using the following data plot a bar plot and a horizontal bar plot."
   ]
  },
  {
   "cell_type": "markdown",
   "id": "c4aff05a-d151-4365-a873-63bcf5956873",
   "metadata": {},
   "source": [
    "## A bar plot is a type of plot used to display data as rectangular bars, where the length of each bar is proportional to the value of a variable. The bars can be oriented vertically or horizontally, depending on the type of information being displayed and the preferences of the viewer.\n",
    "\n",
    "## Bar plots are used to compare the values of a variable across different categories or groups. They are particularly useful when the categories are discrete or categorical, such as different products, regions, or time periods. By using different colors or patterns to distinguish the bars, a bar plot can convey a large amount of information in a simple and intuitive way.\n",
    "\n",
    "## Bar plots are also useful for visualizing the distribution of a variable, particularly when the data is skewed or contains outliers. By grouping the data into categories and displaying the distribution of each category as a bar, a bar plot can highlight any patterns or anomalies in the data.\n",
    "\n",
    "## Overall, bar plots are a common and effective way of summarizing and visualizing categorical data, and are widely used in fields such as statistics, data analysis, and data visualization."
   ]
  },
  {
   "cell_type": "code",
   "execution_count": 5,
   "id": "245a608e-7b9d-42b7-8ffa-2be18d38f214",
   "metadata": {},
   "outputs": [],
   "source": [
    "import numpy as np\n",
    "import matplotlib.pyplot as plt\n",
    "company = np.array([\"Apple\", \"Microsoft\", \"Google\", \"AMD\"])\n",
    "profit = np.array([3000, 8000, 1000, 10000])"
   ]
  },
  {
   "cell_type": "code",
   "execution_count": 6,
   "id": "e014124b-31be-49c9-8be2-b83dd04ba43e",
   "metadata": {},
   "outputs": [
    {
     "data": {
      "text/plain": [
       "<BarContainer object of 4 artists>"
      ]
     },
     "execution_count": 6,
     "metadata": {},
     "output_type": "execute_result"
    },
    {
     "data": {
      "image/png": "[encoded data removed]",
      "text/plain": [
       "<Figure size 640x480 with 1 Axes>"
      ]
     },
     "metadata": {},
     "output_type": "display_data"
    }
   ],
   "source": [
    "plt.bar(company , profit)"
   ]
  },
  {
   "cell_type": "code",
   "execution_count": 7,
   "id": "6b1bbebf-f5c3-45e3-a5b2-9a017e40eb43",
   "metadata": {},
   "outputs": [
    {
     "data": {
      "text/plain": [
       "<BarContainer object of 4 artists>"
      ]
     },
     "execution_count": 7,
     "metadata": {},
     "output_type": "execute_result"
    },
    {
     "data": {
      "image/png": "[encoded data removed]",
      "text/plain": [
       "<Figure size 640x480 with 1 Axes>"
      ]
     },
     "metadata": {},
     "output_type": "display_data"
    }
   ],
   "source": [
    "plt.barh(company , profit)"
   ]
  },
  {
   "cell_type": "markdown",
   "id": "cb40690e-c8d2-4bda-b237-37c19825b208",
   "metadata": {},
   "source": [
    "# Q5: What is a box plot? Why is it used? Using the following data plot a box plot."
   ]
  },
  {
   "cell_type": "markdown",
   "id": "b0c87fc4-0557-4e08-b5f6-239c75415a6b",
   "metadata": {},
   "source": [
    "## A box plot, also known as a box-and-whisker plot, is a type of plot used to display the distribution of a dataset. The box in the plot represents the interquartile range (IQR), which contains the middle 50% of the data. The line inside the box represents the median, which is the middle value of the dataset. The whiskers extend from the box to the minimum and maximum values in the dataset that are not outliers, and any points outside the whiskers are considered outliers.\n",
    "\n",
    "## Box plots are used to summarize the distribution of a dataset and to compare the distributions of different datasets. They are particularly useful when the dataset contains outliers or is skewed, as they provide a clear and concise way to display the central tendency, spread, and range of the data.\n",
    "\n",
    "## Box plots are also useful for identifying patterns or trends in the data, such as differences in the spread or median between different groups or categories. By using different colors or patterns to distinguish the boxes and whiskers for different datasets, a box plot can convey a large amount of information in a simple and intuitive way.\n",
    "\n",
    "## Overall, box plots are a common and effective way of summarizing and visualizing continuous data, and are widely used in fields such as statistics, data analysis, and data visualization."
   ]
  },
  {
   "cell_type": "code",
   "execution_count": 10,
   "id": "d9aa5894-e26d-45b9-a0a8-fbce463f3e7b",
   "metadata": {},
   "outputs": [],
   "source": [
    "box1 = np.random.normal(100, 10, 200)\n",
    "box2 = np.random.normal(90, 20, 200)"
   ]
  },
  {
   "cell_type": "code",
   "execution_count": 11,
   "id": "9e6b512e-3a04-4b48-8e0f-0066126d077b",
   "metadata": {},
   "outputs": [
    {
     "data": {
      "text/plain": [
       "array([ 95.2182748 , 120.08870034,  72.90561416,  97.5502508 ,\n",
       "        86.15005421,  90.49297518, 111.95801877,  90.9909531 ,\n",
       "       102.69330461,  83.88053978,  84.85113384, 104.18339761,\n",
       "       101.62811463, 105.2460621 ,  90.39365605,  91.71649811,\n",
       "        86.65740851,  87.1952216 ,  99.2302589 , 100.56213447,\n",
       "       100.77317892, 115.83389914,  99.69570189, 112.28830829,\n",
       "       100.69917437, 119.78448549,  95.71029537,  88.43050719,\n",
       "       104.12428319, 107.75893888,  93.45835743, 101.41824174,\n",
       "       105.73258549,  99.56005873, 101.75872812,  82.52011307,\n",
       "        96.69633515,  97.28359487, 119.61313707,  96.66478889,\n",
       "       104.83319895, 103.2710171 ,  92.92918967,  96.6347238 ,\n",
       "       102.83958593, 102.45230047,  87.40816193, 101.13416698,\n",
       "       117.1892501 ,  93.59384773, 107.35954844, 101.87474578,\n",
       "       103.61302093,  89.97848883, 102.1236638 ,  78.98341215,\n",
       "       103.96429045,  84.96130623,  98.88084356,  92.84268953,\n",
       "        86.77224895, 105.88820477, 104.52373977, 103.31767057,\n",
       "       102.46852703, 100.13967509,  93.76719818, 104.27333768,\n",
       "        91.15641289,  93.0954106 , 102.45402806, 110.23962767,\n",
       "       105.95948455, 102.39816051, 115.97938847,  98.1582844 ,\n",
       "        99.34254934,  99.14373394,  89.44046698,  86.90013825,\n",
       "        87.19903355, 101.49853745,  96.32821232,  99.82439715,\n",
       "        90.26888193,  96.76986807,  97.8541346 , 104.25410466,\n",
       "        92.41969043,  92.5546929 ,  85.98851857, 106.99825093,\n",
       "       104.21875807,  91.94623629,  77.39005225,  94.56618683,\n",
       "        98.09699536,  97.74163511,  88.1875696 ,  93.15422494,\n",
       "        91.31864251,  87.41483809,  89.44678234, 101.47568098,\n",
       "        92.58506333,  89.13444007, 104.92140593,  95.75013258,\n",
       "        99.68612184, 107.56206392, 107.09286737, 119.55498678,\n",
       "       105.83261108,  93.41787355, 111.74697525,  86.79491731,\n",
       "       101.99542174,  91.25808387,  95.57316689, 100.83770174,\n",
       "       102.12019896,  95.88729983,  89.31032073, 106.74828776,\n",
       "       102.93145425,  97.08416276,  96.45916843,  74.034833  ,\n",
       "        92.81458761, 107.09615797, 110.2503097 ,  97.62670311,\n",
       "       100.80690201,  92.86949032, 104.13771568,  99.05037827,\n",
       "       107.22047408,  95.38659864, 113.1146549 ,  94.86244096,\n",
       "        97.64857573,  95.78061944, 104.4300879 , 109.21450363,\n",
       "        92.75759377,  95.94850958, 107.74118603,  96.69372224,\n",
       "        79.71668385, 102.36352606, 100.99124121,  97.79461129,\n",
       "        99.41082811, 101.28268848,  97.51568268, 101.84991604,\n",
       "        97.3238399 ,  94.4319096 , 102.61247794, 117.33260574,\n",
       "       103.87853374, 103.6843746 ,  95.28597552, 102.19651579,\n",
       "       111.85180026,  92.01906817, 102.08296454,  78.67869608,\n",
       "        93.36800602,  84.28531464, 100.92669621, 105.69483992,\n",
       "       120.90432687, 103.21806987,  83.06121907, 105.2963116 ,\n",
       "       123.34720833,  88.57923339, 122.37898492,  88.85215031,\n",
       "        92.27496203, 112.32574844,  92.30759244,  96.23599201,\n",
       "       109.90136014, 109.21304918, 110.21622568, 103.48151714,\n",
       "       101.58255882,  98.11619839,  97.6991699 , 110.16665222,\n",
       "        93.91957925,  93.58110723,  91.28625177, 106.69386092,\n",
       "        82.82727694, 117.54596396, 108.47323985, 111.0831961 ])"
      ]
     },
     "execution_count": 11,
     "metadata": {},
     "output_type": "execute_result"
    }
   ],
   "source": [
    "box1\n"
   ]
  },
  {
   "cell_type": "code",
   "execution_count": 12,
   "id": "3dec64e2-ad7b-4300-8778-3cebd855f863",
   "metadata": {},
   "outputs": [
    {
     "data": {
      "text/plain": [
       "array([ 77.36896162,  98.52093426, 116.15825053, 138.9904204 ,\n",
       "        49.00610727, 109.65690172,  70.24298696, 113.29861793,\n",
       "        85.24274109,  64.2340308 ,  97.67748208, 120.4603686 ,\n",
       "        85.01453416,  86.94087146,  58.38988822, 104.63171887,\n",
       "        84.62341199,  85.4607172 ,  94.93471508,  41.05552765,\n",
       "       101.85172819, 106.5176168 ,  64.5054044 ,  91.74248046,\n",
       "        88.40387408,  99.02794023,  48.65885314,  79.71149887,\n",
       "        92.40433255,  96.93350763,  77.83839078,  70.10019726,\n",
       "        49.21478224,  77.31915387,  91.5276564 ,  61.55986132,\n",
       "        81.99846333,  69.923276  ,  95.97295824, 126.42952946,\n",
       "        73.27398964, 101.26395129,  51.40790683,  73.29985578,\n",
       "        93.8218186 ,  83.14582779,  98.55996578,  95.21831589,\n",
       "        74.2075189 , 115.84941395,  87.0505608 ,  81.62352515,\n",
       "        84.20794834, 121.75304237,  61.94270943, 105.59837124,\n",
       "        78.87901767,  99.19910896, 105.01255185,  85.82563681,\n",
       "        87.9338042 ,  92.72808187,  94.70792924,  68.97793588,\n",
       "        78.31583686,  84.8489594 ,  99.22740791,  79.31537669,\n",
       "       109.87988251,  58.12831006,  79.68500122,  40.54188835,\n",
       "       106.25765269,  88.92739118, 136.41358388,  89.87906433,\n",
       "        58.07940996,  87.33842156,  91.54303086,  77.08568807,\n",
       "        64.43605144,  31.11751924,  76.54077076,  88.07039991,\n",
       "        69.24062305,  76.85569661,  88.857031  ,  76.28584234,\n",
       "        92.831179  ,  85.33808999, 107.28992013, 113.74717097,\n",
       "        83.70691605, 106.80849759,  56.94462721,  92.33399738,\n",
       "        98.85220771,  75.74490427,  78.11743016,  76.95144157,\n",
       "        87.67096561, 111.58573807,  62.91785536,  99.26328776,\n",
       "        68.64133684,  61.18934079,  83.25309876, 106.47538095,\n",
       "       101.38984683,  68.56034995, 109.19005668, 101.96168559,\n",
       "        84.50326527,  86.66700053,  72.47637506, 106.91569454,\n",
       "       107.6908297 ,  90.26638536,  91.0277412 ,  74.8216189 ,\n",
       "        81.29576426,  93.55646242,  90.50607239,  69.84963895,\n",
       "       110.53555779,  65.91626231,  94.37520566,  42.37662503,\n",
       "       112.11974209,  85.91535691,  95.77468468,  97.6913007 ,\n",
       "       100.44433529,  88.33076239, 114.96639737,  62.71748508,\n",
       "       102.19149848,  85.66660293, 138.87391908,  84.16036859,\n",
       "        94.80736961,  69.65881215,  86.57396945,  76.39059141,\n",
       "        62.37741754, 122.7209201 ,  99.91405394,  89.58801399,\n",
       "       117.09040604, 134.88855157, 102.15215434, 114.8226362 ,\n",
       "        94.05966287,  62.30402693,  71.42555343,  82.70843591,\n",
       "        91.43600965, 101.04364344,  91.84966214,  84.75868506,\n",
       "       113.71422866,  79.87360565, 114.61839382, 103.56739172,\n",
       "        72.96009102, 100.50804144, 106.4067387 ,  98.81148958,\n",
       "       113.72742705, 115.14673376, 111.27007373,  70.01795316,\n",
       "       128.65121545, 100.62929576,  86.95289779,  73.48766859,\n",
       "        70.75582904,  81.47799911,  75.26045037,  91.69673182,\n",
       "        90.44109468,  83.79753681,  81.7893954 ,  82.05213321,\n",
       "       107.63558705,  58.58348584, 103.35204396,  21.50729669,\n",
       "        81.25444685,  66.39909524,  85.55357146, 108.51515068,\n",
       "       103.36372905,  85.27249305, 105.8028376 ,  89.80293385,\n",
       "       103.35360422,  98.31672458, 104.74471532,  79.71272157])"
      ]
     },
     "execution_count": 12,
     "metadata": {},
     "output_type": "execute_result"
    }
   ],
   "source": [
    "box2"
   ]
  },
  {
   "cell_type": "code",
   "execution_count": 13,
   "id": "dca02a6d-7422-46fe-926b-2a3408d5a47b",
   "metadata": {},
   "outputs": [
    {
     "ename": "ValueError",
     "evalue": "The truth value of an array with more than one element is ambiguous. Use a.any() or a.all()",
     "output_type": "error",
     "traceback": [
      "\u001b[0;31m---------------------------------------------------------------------------\u001b[0m",
      "\u001b[0;31mValueError\u001b[0m                                Traceback (most recent call last)",
      "Cell \u001b[0;32mIn[13], line 1\u001b[0m\n\u001b[0;32m----> 1\u001b[0m \u001b[43mplt\u001b[49m\u001b[38;5;241;43m.\u001b[39;49m\u001b[43mboxplot\u001b[49m\u001b[43m(\u001b[49m\u001b[43mbox1\u001b[49m\u001b[43m \u001b[49m\u001b[43m,\u001b[49m\u001b[43m \u001b[49m\u001b[43mbox2\u001b[49m\u001b[43m)\u001b[49m\n",
      "File \u001b[0;32m/opt/conda/lib/python3.10/site-packages/matplotlib/pyplot.py:2411\u001b[0m, in \u001b[0;36mboxplot\u001b[0;34m(x, notch, sym, vert, whis, positions, widths, patch_artist, bootstrap, usermedians, conf_intervals, meanline, showmeans, showcaps, showbox, showfliers, boxprops, labels, flierprops, medianprops, meanprops, capprops, whiskerprops, manage_ticks, autorange, zorder, capwidths, data)\u001b[0m\n\u001b[1;32m   2401\u001b[0m \u001b[38;5;129m@_copy_docstring_and_deprecators\u001b[39m(Axes\u001b[38;5;241m.\u001b[39mboxplot)\n\u001b[1;32m   2402\u001b[0m \u001b[38;5;28;01mdef\u001b[39;00m \u001b[38;5;21mboxplot\u001b[39m(\n\u001b[1;32m   2403\u001b[0m         x, notch\u001b[38;5;241m=\u001b[39m\u001b[38;5;28;01mNone\u001b[39;00m, sym\u001b[38;5;241m=\u001b[39m\u001b[38;5;28;01mNone\u001b[39;00m, vert\u001b[38;5;241m=\u001b[39m\u001b[38;5;28;01mNone\u001b[39;00m, whis\u001b[38;5;241m=\u001b[39m\u001b[38;5;28;01mNone\u001b[39;00m,\n\u001b[0;32m   (...)\u001b[0m\n\u001b[1;32m   2409\u001b[0m         whiskerprops\u001b[38;5;241m=\u001b[39m\u001b[38;5;28;01mNone\u001b[39;00m, manage_ticks\u001b[38;5;241m=\u001b[39m\u001b[38;5;28;01mTrue\u001b[39;00m, autorange\u001b[38;5;241m=\u001b[39m\u001b[38;5;28;01mFalse\u001b[39;00m,\n\u001b[1;32m   2410\u001b[0m         zorder\u001b[38;5;241m=\u001b[39m\u001b[38;5;28;01mNone\u001b[39;00m, capwidths\u001b[38;5;241m=\u001b[39m\u001b[38;5;28;01mNone\u001b[39;00m, \u001b[38;5;241m*\u001b[39m, data\u001b[38;5;241m=\u001b[39m\u001b[38;5;28;01mNone\u001b[39;00m):\n\u001b[0;32m-> 2411\u001b[0m     \u001b[38;5;28;01mreturn\u001b[39;00m \u001b[43mgca\u001b[49m\u001b[43m(\u001b[49m\u001b[43m)\u001b[49m\u001b[38;5;241;43m.\u001b[39;49m\u001b[43mboxplot\u001b[49m\u001b[43m(\u001b[49m\n\u001b[1;32m   2412\u001b[0m \u001b[43m        \u001b[49m\u001b[43mx\u001b[49m\u001b[43m,\u001b[49m\u001b[43m \u001b[49m\u001b[43mnotch\u001b[49m\u001b[38;5;241;43m=\u001b[39;49m\u001b[43mnotch\u001b[49m\u001b[43m,\u001b[49m\u001b[43m \u001b[49m\u001b[43msym\u001b[49m\u001b[38;5;241;43m=\u001b[39;49m\u001b[43msym\u001b[49m\u001b[43m,\u001b[49m\u001b[43m \u001b[49m\u001b[43mvert\u001b[49m\u001b[38;5;241;43m=\u001b[39;49m\u001b[43mvert\u001b[49m\u001b[43m,\u001b[49m\u001b[43m \u001b[49m\u001b[43mwhis\u001b[49m\u001b[38;5;241;43m=\u001b[39;49m\u001b[43mwhis\u001b[49m\u001b[43m,\u001b[49m\n\u001b[1;32m   2413\u001b[0m \u001b[43m        \u001b[49m\u001b[43mpositions\u001b[49m\u001b[38;5;241;43m=\u001b[39;49m\u001b[43mpositions\u001b[49m\u001b[43m,\u001b[49m\u001b[43m \u001b[49m\u001b[43mwidths\u001b[49m\u001b[38;5;241;43m=\u001b[39;49m\u001b[43mwidths\u001b[49m\u001b[43m,\u001b[49m\u001b[43m \u001b[49m\u001b[43mpatch_artist\u001b[49m\u001b[38;5;241;43m=\u001b[39;49m\u001b[43mpatch_artist\u001b[49m\u001b[43m,\u001b[49m\n\u001b[1;32m   2414\u001b[0m \u001b[43m        \u001b[49m\u001b[43mbootstrap\u001b[49m\u001b[38;5;241;43m=\u001b[39;49m\u001b[43mbootstrap\u001b[49m\u001b[43m,\u001b[49m\u001b[43m \u001b[49m\u001b[43musermedians\u001b[49m\u001b[38;5;241;43m=\u001b[39;49m\u001b[43musermedians\u001b[49m\u001b[43m,\u001b[49m\n\u001b[1;32m   2415\u001b[0m \u001b[43m        \u001b[49m\u001b[43mconf_intervals\u001b[49m\u001b[38;5;241;43m=\u001b[39;49m\u001b[43mconf_intervals\u001b[49m\u001b[43m,\u001b[49m\u001b[43m \u001b[49m\u001b[43mmeanline\u001b[49m\u001b[38;5;241;43m=\u001b[39;49m\u001b[43mmeanline\u001b[49m\u001b[43m,\u001b[49m\n\u001b[1;32m   2416\u001b[0m \u001b[43m        \u001b[49m\u001b[43mshowmeans\u001b[49m\u001b[38;5;241;43m=\u001b[39;49m\u001b[43mshowmeans\u001b[49m\u001b[43m,\u001b[49m\u001b[43m \u001b[49m\u001b[43mshowcaps\u001b[49m\u001b[38;5;241;43m=\u001b[39;49m\u001b[43mshowcaps\u001b[49m\u001b[43m,\u001b[49m\u001b[43m \u001b[49m\u001b[43mshowbox\u001b[49m\u001b[38;5;241;43m=\u001b[39;49m\u001b[43mshowbox\u001b[49m\u001b[43m,\u001b[49m\n\u001b[1;32m   2417\u001b[0m \u001b[43m        \u001b[49m\u001b[43mshowfliers\u001b[49m\u001b[38;5;241;43m=\u001b[39;49m\u001b[43mshowfliers\u001b[49m\u001b[43m,\u001b[49m\u001b[43m \u001b[49m\u001b[43mboxprops\u001b[49m\u001b[38;5;241;43m=\u001b[39;49m\u001b[43mboxprops\u001b[49m\u001b[43m,\u001b[49m\u001b[43m \u001b[49m\u001b[43mlabels\u001b[49m\u001b[38;5;241;43m=\u001b[39;49m\u001b[43mlabels\u001b[49m\u001b[43m,\u001b[49m\n\u001b[1;32m   2418\u001b[0m \u001b[43m        \u001b[49m\u001b[43mflierprops\u001b[49m\u001b[38;5;241;43m=\u001b[39;49m\u001b[43mflierprops\u001b[49m\u001b[43m,\u001b[49m\u001b[43m \u001b[49m\u001b[43mmedianprops\u001b[49m\u001b[38;5;241;43m=\u001b[39;49m\u001b[43mmedianprops\u001b[49m\u001b[43m,\u001b[49m\n\u001b[1;32m   2419\u001b[0m \u001b[43m        \u001b[49m\u001b[43mmeanprops\u001b[49m\u001b[38;5;241;43m=\u001b[39;49m\u001b[43mmeanprops\u001b[49m\u001b[43m,\u001b[49m\u001b[43m \u001b[49m\u001b[43mcapprops\u001b[49m\u001b[38;5;241;43m=\u001b[39;49m\u001b[43mcapprops\u001b[49m\u001b[43m,\u001b[49m\n\u001b[1;32m   2420\u001b[0m \u001b[43m        \u001b[49m\u001b[43mwhiskerprops\u001b[49m\u001b[38;5;241;43m=\u001b[39;49m\u001b[43mwhiskerprops\u001b[49m\u001b[43m,\u001b[49m\u001b[43m \u001b[49m\u001b[43mmanage_ticks\u001b[49m\u001b[38;5;241;43m=\u001b[39;49m\u001b[43mmanage_ticks\u001b[49m\u001b[43m,\u001b[49m\n\u001b[1;32m   2421\u001b[0m \u001b[43m        \u001b[49m\u001b[43mautorange\u001b[49m\u001b[38;5;241;43m=\u001b[39;49m\u001b[43mautorange\u001b[49m\u001b[43m,\u001b[49m\u001b[43m \u001b[49m\u001b[43mzorder\u001b[49m\u001b[38;5;241;43m=\u001b[39;49m\u001b[43mzorder\u001b[49m\u001b[43m,\u001b[49m\u001b[43m \u001b[49m\u001b[43mcapwidths\u001b[49m\u001b[38;5;241;43m=\u001b[39;49m\u001b[43mcapwidths\u001b[49m\u001b[43m,\u001b[49m\n\u001b[1;32m   2422\u001b[0m \u001b[43m        \u001b[49m\u001b[38;5;241;43m*\u001b[39;49m\u001b[38;5;241;43m*\u001b[39;49m\u001b[43m(\u001b[49m\u001b[43m{\u001b[49m\u001b[38;5;124;43m\"\u001b[39;49m\u001b[38;5;124;43mdata\u001b[39;49m\u001b[38;5;124;43m\"\u001b[39;49m\u001b[43m:\u001b[49m\u001b[43m \u001b[49m\u001b[43mdata\u001b[49m\u001b[43m}\u001b[49m\u001b[43m \u001b[49m\u001b[38;5;28;43;01mif\u001b[39;49;00m\u001b[43m \u001b[49m\u001b[43mdata\u001b[49m\u001b[43m \u001b[49m\u001b[38;5;129;43;01mis\u001b[39;49;00m\u001b[43m \u001b[49m\u001b[38;5;129;43;01mnot\u001b[39;49;00m\u001b[43m \u001b[49m\u001b[38;5;28;43;01mNone\u001b[39;49;00m\u001b[43m \u001b[49m\u001b[38;5;28;43;01melse\u001b[39;49;00m\u001b[43m \u001b[49m\u001b[43m{\u001b[49m\u001b[43m}\u001b[49m\u001b[43m)\u001b[49m\u001b[43m)\u001b[49m\n",
      "File \u001b[0;32m/opt/conda/lib/python3.10/site-packages/matplotlib/__init__.py:1423\u001b[0m, in \u001b[0;36m_preprocess_data.<locals>.inner\u001b[0;34m(ax, data, *args, **kwargs)\u001b[0m\n\u001b[1;32m   1420\u001b[0m \u001b[38;5;129m@functools\u001b[39m\u001b[38;5;241m.\u001b[39mwraps(func)\n\u001b[1;32m   1421\u001b[0m \u001b[38;5;28;01mdef\u001b[39;00m \u001b[38;5;21minner\u001b[39m(ax, \u001b[38;5;241m*\u001b[39margs, data\u001b[38;5;241m=\u001b[39m\u001b[38;5;28;01mNone\u001b[39;00m, \u001b[38;5;241m*\u001b[39m\u001b[38;5;241m*\u001b[39mkwargs):\n\u001b[1;32m   1422\u001b[0m     \u001b[38;5;28;01mif\u001b[39;00m data \u001b[38;5;129;01mis\u001b[39;00m \u001b[38;5;28;01mNone\u001b[39;00m:\n\u001b[0;32m-> 1423\u001b[0m         \u001b[38;5;28;01mreturn\u001b[39;00m \u001b[43mfunc\u001b[49m\u001b[43m(\u001b[49m\u001b[43max\u001b[49m\u001b[43m,\u001b[49m\u001b[43m \u001b[49m\u001b[38;5;241;43m*\u001b[39;49m\u001b[38;5;28;43mmap\u001b[39;49m\u001b[43m(\u001b[49m\u001b[43msanitize_sequence\u001b[49m\u001b[43m,\u001b[49m\u001b[43m \u001b[49m\u001b[43margs\u001b[49m\u001b[43m)\u001b[49m\u001b[43m,\u001b[49m\u001b[43m \u001b[49m\u001b[38;5;241;43m*\u001b[39;49m\u001b[38;5;241;43m*\u001b[39;49m\u001b[43mkwargs\u001b[49m\u001b[43m)\u001b[49m\n\u001b[1;32m   1425\u001b[0m     bound \u001b[38;5;241m=\u001b[39m new_sig\u001b[38;5;241m.\u001b[39mbind(ax, \u001b[38;5;241m*\u001b[39margs, \u001b[38;5;241m*\u001b[39m\u001b[38;5;241m*\u001b[39mkwargs)\n\u001b[1;32m   1426\u001b[0m     auto_label \u001b[38;5;241m=\u001b[39m (bound\u001b[38;5;241m.\u001b[39marguments\u001b[38;5;241m.\u001b[39mget(label_namer)\n\u001b[1;32m   1427\u001b[0m                   \u001b[38;5;129;01mor\u001b[39;00m bound\u001b[38;5;241m.\u001b[39mkwargs\u001b[38;5;241m.\u001b[39mget(label_namer))\n",
      "File \u001b[0;32m/opt/conda/lib/python3.10/site-packages/matplotlib/axes/_axes.py:3946\u001b[0m, in \u001b[0;36mAxes.boxplot\u001b[0;34m(self, x, notch, sym, vert, whis, positions, widths, patch_artist, bootstrap, usermedians, conf_intervals, meanline, showmeans, showcaps, showbox, showfliers, boxprops, labels, flierprops, medianprops, meanprops, capprops, whiskerprops, manage_ticks, autorange, zorder, capwidths)\u001b[0m\n\u001b[1;32m   3943\u001b[0m                     \u001b[38;5;28;01mif\u001b[39;00m ci[\u001b[38;5;241m1\u001b[39m] \u001b[38;5;129;01mis\u001b[39;00m \u001b[38;5;129;01mnot\u001b[39;00m \u001b[38;5;28;01mNone\u001b[39;00m:\n\u001b[1;32m   3944\u001b[0m                         stats[\u001b[38;5;124m'\u001b[39m\u001b[38;5;124mcihi\u001b[39m\u001b[38;5;124m'\u001b[39m] \u001b[38;5;241m=\u001b[39m ci[\u001b[38;5;241m1\u001b[39m]\n\u001b[0;32m-> 3946\u001b[0m artists \u001b[38;5;241m=\u001b[39m \u001b[38;5;28;43mself\u001b[39;49m\u001b[38;5;241;43m.\u001b[39;49m\u001b[43mbxp\u001b[49m\u001b[43m(\u001b[49m\u001b[43mbxpstats\u001b[49m\u001b[43m,\u001b[49m\u001b[43m \u001b[49m\u001b[43mpositions\u001b[49m\u001b[38;5;241;43m=\u001b[39;49m\u001b[43mpositions\u001b[49m\u001b[43m,\u001b[49m\u001b[43m \u001b[49m\u001b[43mwidths\u001b[49m\u001b[38;5;241;43m=\u001b[39;49m\u001b[43mwidths\u001b[49m\u001b[43m,\u001b[49m\n\u001b[1;32m   3947\u001b[0m \u001b[43m                   \u001b[49m\u001b[43mvert\u001b[49m\u001b[38;5;241;43m=\u001b[39;49m\u001b[43mvert\u001b[49m\u001b[43m,\u001b[49m\u001b[43m \u001b[49m\u001b[43mpatch_artist\u001b[49m\u001b[38;5;241;43m=\u001b[39;49m\u001b[43mpatch_artist\u001b[49m\u001b[43m,\u001b[49m\n\u001b[1;32m   3948\u001b[0m \u001b[43m                   \u001b[49m\u001b[43mshownotches\u001b[49m\u001b[38;5;241;43m=\u001b[39;49m\u001b[43mnotch\u001b[49m\u001b[43m,\u001b[49m\u001b[43m \u001b[49m\u001b[43mshowmeans\u001b[49m\u001b[38;5;241;43m=\u001b[39;49m\u001b[43mshowmeans\u001b[49m\u001b[43m,\u001b[49m\n\u001b[1;32m   3949\u001b[0m \u001b[43m                   \u001b[49m\u001b[43mshowcaps\u001b[49m\u001b[38;5;241;43m=\u001b[39;49m\u001b[43mshowcaps\u001b[49m\u001b[43m,\u001b[49m\u001b[43m \u001b[49m\u001b[43mshowbox\u001b[49m\u001b[38;5;241;43m=\u001b[39;49m\u001b[43mshowbox\u001b[49m\u001b[43m,\u001b[49m\n\u001b[1;32m   3950\u001b[0m \u001b[43m                   \u001b[49m\u001b[43mboxprops\u001b[49m\u001b[38;5;241;43m=\u001b[39;49m\u001b[43mboxprops\u001b[49m\u001b[43m,\u001b[49m\u001b[43m \u001b[49m\u001b[43mflierprops\u001b[49m\u001b[38;5;241;43m=\u001b[39;49m\u001b[43mflierprops\u001b[49m\u001b[43m,\u001b[49m\n\u001b[1;32m   3951\u001b[0m \u001b[43m                   \u001b[49m\u001b[43mmedianprops\u001b[49m\u001b[38;5;241;43m=\u001b[39;49m\u001b[43mmedianprops\u001b[49m\u001b[43m,\u001b[49m\u001b[43m \u001b[49m\u001b[43mmeanprops\u001b[49m\u001b[38;5;241;43m=\u001b[39;49m\u001b[43mmeanprops\u001b[49m\u001b[43m,\u001b[49m\n\u001b[1;32m   3952\u001b[0m \u001b[43m                   \u001b[49m\u001b[43mmeanline\u001b[49m\u001b[38;5;241;43m=\u001b[39;49m\u001b[43mmeanline\u001b[49m\u001b[43m,\u001b[49m\u001b[43m \u001b[49m\u001b[43mshowfliers\u001b[49m\u001b[38;5;241;43m=\u001b[39;49m\u001b[43mshowfliers\u001b[49m\u001b[43m,\u001b[49m\n\u001b[1;32m   3953\u001b[0m \u001b[43m                   \u001b[49m\u001b[43mcapprops\u001b[49m\u001b[38;5;241;43m=\u001b[39;49m\u001b[43mcapprops\u001b[49m\u001b[43m,\u001b[49m\u001b[43m \u001b[49m\u001b[43mwhiskerprops\u001b[49m\u001b[38;5;241;43m=\u001b[39;49m\u001b[43mwhiskerprops\u001b[49m\u001b[43m,\u001b[49m\n\u001b[1;32m   3954\u001b[0m \u001b[43m                   \u001b[49m\u001b[43mmanage_ticks\u001b[49m\u001b[38;5;241;43m=\u001b[39;49m\u001b[43mmanage_ticks\u001b[49m\u001b[43m,\u001b[49m\u001b[43m \u001b[49m\u001b[43mzorder\u001b[49m\u001b[38;5;241;43m=\u001b[39;49m\u001b[43mzorder\u001b[49m\u001b[43m,\u001b[49m\n\u001b[1;32m   3955\u001b[0m \u001b[43m                   \u001b[49m\u001b[43mcapwidths\u001b[49m\u001b[38;5;241;43m=\u001b[39;49m\u001b[43mcapwidths\u001b[49m\u001b[43m)\u001b[49m\n\u001b[1;32m   3956\u001b[0m \u001b[38;5;28;01mreturn\u001b[39;00m artists\n",
      "File \u001b[0;32m/opt/conda/lib/python3.10/site-packages/matplotlib/axes/_axes.py:4165\u001b[0m, in \u001b[0;36mAxes.bxp\u001b[0;34m(self, bxpstats, positions, widths, vert, patch_artist, shownotches, showmeans, showcaps, showbox, showfliers, boxprops, whiskerprops, flierprops, medianprops, capprops, meanprops, meanline, manage_ticks, zorder, capwidths)\u001b[0m\n\u001b[1;32m   4163\u001b[0m med_y \u001b[38;5;241m=\u001b[39m [stats[\u001b[38;5;124m'\u001b[39m\u001b[38;5;124mmed\u001b[39m\u001b[38;5;124m'\u001b[39m], stats[\u001b[38;5;124m'\u001b[39m\u001b[38;5;124mmed\u001b[39m\u001b[38;5;124m'\u001b[39m]]\n\u001b[1;32m   4164\u001b[0m \u001b[38;5;66;03m# notched boxes\u001b[39;00m\n\u001b[0;32m-> 4165\u001b[0m \u001b[38;5;28;01mif\u001b[39;00m shownotches:\n\u001b[1;32m   4166\u001b[0m     notch_left \u001b[38;5;241m=\u001b[39m pos \u001b[38;5;241m-\u001b[39m width \u001b[38;5;241m*\u001b[39m \u001b[38;5;241m0.25\u001b[39m\n\u001b[1;32m   4167\u001b[0m     notch_right \u001b[38;5;241m=\u001b[39m pos \u001b[38;5;241m+\u001b[39m width \u001b[38;5;241m*\u001b[39m \u001b[38;5;241m0.25\u001b[39m\n",
      "\u001b[0;31mValueError\u001b[0m: The truth value of an array with more than one element is ambiguous. Use a.any() or a.all()"
     ]
    },
    {
     "data": {
      "image/png": "[encoded data removed]",
      "text/plain": [
       "<Figure size 640x480 with 1 Axes>"
      ]
     },
     "metadata": {},
     "output_type": "display_data"
    }
   ],
   "source": [
    "plt.boxplot(box1 , box2)"
   ]
  },
  {
   "cell_type": "code",
   "execution_count": null,
   "id": "f3a7f8c6-c067-4035-957b-db1d73cf12eb",
   "metadata": {},
   "outputs": [],
   "source": []
  }
 ],
 "metadata": {
  "kernelspec": {
   "display_name": "Python 3 (ipykernel)",
   "language": "python",
   "name": "python3"
  },
  "language_info": {
   "codemirror_mode": {
    "name": "ipython",
    "version": 3
   },
   "file_extension": ".py",
   "mimetype": "text/x-python",
   "name": "python",
   "nbconvert_exporter": "python",
   "pygments_lexer": "ipython3",
   "version": "3.10.8"
  }
 },
 "nbformat": 4,
 "nbformat_minor": 5
}
